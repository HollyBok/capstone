{
 "cells": [
  {
   "cell_type": "code",
   "execution_count": 97,
   "metadata": {},
   "outputs": [],
   "source": [
    "import requests\n",
    "import pandas as pd\n",
    "import numpy as np\n",
    "from bs4 import BeautifulSoup"
   ]
  },
  {
   "cell_type": "code",
   "execution_count": 98,
   "metadata": {},
   "outputs": [
    {
     "data": {
      "text/plain": [
       "<Response [200]>"
      ]
     },
     "execution_count": 98,
     "metadata": {},
     "output_type": "execute_result"
    }
   ],
   "source": [
    "url = 'https://hoopshype.com/salaries/players/'\n",
    "res = requests.get(url)\n",
    "\n",
    "res"
   ]
  },
  {
   "cell_type": "code",
   "execution_count": 168,
   "metadata": {},
   "outputs": [],
   "source": [
    "soup = BeautifulSoup(res.content, 'html.parser')"
   ]
  },
  {
   "cell_type": "code",
   "execution_count": 169,
   "metadata": {},
   "outputs": [
    {
     "data": {
      "text/plain": [
       "[{'name': '\\t\\t\\t\\t\\t\\t1.\\t\\t\\t\\t\\t',\n",
       "  'href': 'https://hoopshype.com/player/stephen-curry/salary/'},\n",
       " {'name': '\\t\\t\\t\\t\\t\\t2.\\t\\t\\t\\t\\t',\n",
       "  'href': 'https://hoopshype.com/player/russell-westbrook/salary/'},\n",
       " {'name': '\\t\\t\\t\\t\\t\\t2.\\t\\t\\t\\t\\t',\n",
       "  'href': 'https://hoopshype.com/player/chris-paul/salary/'},\n",
       " {'name': '\\t\\t\\t\\t\\t\\t4.\\t\\t\\t\\t\\t',\n",
       "  'href': 'https://hoopshype.com/player/james-harden/salary/'},\n",
       " {'name': '\\t\\t\\t\\t\\t\\t4.\\t\\t\\t\\t\\t',\n",
       "  'href': 'https://hoopshype.com/player/john-wall/salary/'}]"
      ]
     },
     "execution_count": 169,
     "metadata": {},
     "output_type": "execute_result"
    }
   ],
   "source": [
    "restaurants = []\n",
    "for row in soup.find_all('tr')[1:]:\n",
    "    restaurant ={}\n",
    "    restaurant['name'] = row.find('td').text.replace('\\n','')\n",
    "    restaurant['href'] = row.find('a').attrs['href']\n",
    "    restaurants.append(restaurant)\n",
    "\n",
    "\n",
    "restaurants[:5]"
   ]
  },
  {
   "cell_type": "code",
   "execution_count": 170,
   "metadata": {},
   "outputs": [
    {
     "name": "stdout",
     "output_type": "stream",
     "text": [
      "[]\n"
     ]
    }
   ],
   "source": [
    "players = []\n",
    "for each in soup.find('td'):\n",
    "    a = each.find('a')\n",
    "    players.append(a)\n",
    "print(players)"
   ]
  },
  {
   "cell_type": "code",
   "execution_count": null,
   "metadata": {},
   "outputs": [],
   "source": []
  },
  {
   "cell_type": "code",
   "execution_count": null,
   "metadata": {},
   "outputs": [],
   "source": []
  },
  {
   "cell_type": "code",
   "execution_count": null,
   "metadata": {},
   "outputs": [],
   "source": []
  },
  {
   "cell_type": "code",
   "execution_count": null,
   "metadata": {},
   "outputs": [],
   "source": []
  },
  {
   "cell_type": "code",
   "execution_count": 223,
   "metadata": {},
   "outputs": [
    {
     "name": "stdout",
     "output_type": "stream",
     "text": [
      "15\n",
      "{'player_name': 'Tobias Harris', '19_20_salary': '$32,742,000', '20_21_salary': '$34,358,850'}\n",
      "30\n",
      "{'player_name': 'Kristaps Porzingis', '19_20_salary': '$27,285,000', '20_21_salary': '$29,467,800'}\n",
      "45\n",
      "{'player_name': 'Rudy Gobert', '19_20_salary': '$25,258,427', '20_21_salary': '$25,775,281'}\n",
      "60\n",
      "{'player_name': 'Evan Turner', '19_20_salary': '$18,606,556', '20_21_salary': '$0'}\n",
      "75\n",
      "{'player_name': 'Ricky Rubio', '19_20_salary': '$16,200,000', '20_21_salary': '$17,000,000'}\n",
      "90\n",
      "{'player_name': 'Mason Plumlee', '19_20_salary': '$14,041,096', '20_21_salary': '$0'}\n",
      "105\n",
      "{'player_name': 'Miles Plumlee', '19_20_salary': '$12,400,000', '20_21_salary': '$0'}\n",
      "120\n",
      "{'player_name': 'Jeremy Lamb', '19_20_salary': '$10,500,000', '20_21_salary': '$10,500,000'}\n",
      "135\n",
      "{'player_name': 'Fred VanVleet', '19_20_salary': '$9,346,153', '20_21_salary': '$0'}\n",
      "150\n",
      "{'player_name': 'Thomas Bryant', '19_20_salary': '$8,000,000', '20_21_salary': '$8,333,333'}\n",
      "165\n",
      "{'player_name': 'Brandon Ingram', '19_20_salary': '$7,265,485', '20_21_salary': '$9,481,458'}\n",
      "180\n",
      "{'player_name': 'Darius Garland', '19_20_salary': '$6,400,920', '20_21_salary': '$6,720,720'}\n",
      "195\n",
      "{'player_name': 'Deron Williams', '19_20_salary': '$5,474,787', '20_21_salary': '$0'}\n",
      "210\n",
      "{'player_name': 'Robin Lopez', '19_20_salary': '$4,767,000', '20_21_salary': '$5,005,350'}\n",
      "225\n",
      "{'player_name': 'Mikal Bridges', '19_20_salary': '$4,161,000', '20_21_salary': '$4,359,000'}\n",
      "240\n",
      "{'player_name': 'Donovan Mitchell', '19_20_salary': '$3,635,760', '20_21_salary': '$5,195,501'}\n",
      "255\n",
      "{'player_name': 'Michael Porter', '19_20_salary': '$3,389,400', '20_21_salary': '$3,550,800'}\n",
      "270\n",
      "{'player_name': 'Nickeil Alexander-Walker', '19_20_salary': '$2,964,840', '20_21_salary': '$3,113,160'}\n",
      "285\n",
      "{'player_name': 'Marko Guduric', '19_20_salary': '$2,625,000', '20_21_salary': '$2,750,000'}\n",
      "300\n",
      "{'player_name': 'Anthony Tolliver', '19_20_salary': '$2,564,753', '20_21_salary': '$0'}\n",
      "315\n",
      "{'player_name': 'Alec Burks', '19_20_salary': '$2,320,044', '20_21_salary': '$0'}\n",
      "330\n",
      "{'player_name': 'Nassir Little', '19_20_salary': '$2,105,520', '20_21_salary': '$2,210,640'}\n",
      "345\n",
      "{'player_name': 'Kyle Kuzma', '19_20_salary': '$1,974,600', '20_21_salary': '$3,562,178'}\n",
      "360\n",
      "{'player_name': 'Bruno Caboclo', '19_20_salary': '$1,845,301', '20_21_salary': '$0'}\n",
      "375\n",
      "{'player_name': 'Christian Wood', '19_20_salary': '$1,645,357', '20_21_salary': '$0'}\n",
      "390\n",
      "{'player_name': 'Wesley Iwundu', '19_20_salary': '$1,618,520', '20_21_salary': '$0'}\n",
      "405\n",
      "{'player_name': 'Derrick Walton', '19_20_salary': '$1,445,697', '20_21_salary': '$0'}\n",
      "420\n",
      "{'player_name': 'Alize Johnson', '19_20_salary': '$1,416,852', '20_21_salary': '$0'}\n",
      "435\n",
      "{'player_name': 'Cody Martin', '19_20_salary': '$1,173,310', '20_21_salary': '$1,517,981'}\n",
      "450\n",
      "{'player_name': 'Alen Smailagic', '19_20_salary': '$898,310', '20_21_salary': '$1,517,981'}\n",
      "465\n",
      "{'player_name': 'Juwan Morgan', '19_20_salary': '$796,806', '20_21_salary': '$0'}\n",
      "480\n",
      "{'player_name': 'Iman Shumpert', '19_20_salary': '$406,335', '20_21_salary': '$0'}\n",
      "495\n",
      "{'player_name': 'William Howard', '19_20_salary': '$129,568', '20_21_salary': '$0'}\n",
      "510\n",
      "{'player_name': 'Kobi Simmons', '19_20_salary': '$79,568', '20_21_salary': '$0'}\n",
      "525\n",
      "{'player_name': 'Johnathan Motley', '19_20_salary': '$79,568', '20_21_salary': '$0'}\n",
      "540\n",
      "{'player_name': 'Kenny Wooten', '19_20_salary': '$79,568', '20_21_salary': '$0'}\n",
      "555\n",
      "{'player_name': 'Shamorie Ponds', '19_20_salary': '$79,568', '20_21_salary': '$0'}\n"
     ]
    }
   ],
   "source": [
    "import time\n",
    "\n",
    "players_with_salary = []\n",
    "count = 0\n",
    "for each in soup.find_all('tr')[1:]:\n",
    "    player = {'player_name' : each.find_all('td')[1].text.strip(),\n",
    "              '19_20_salary' : each.find_all('td')[2].text.strip(),\n",
    "              '20_21_salary' : each.find_all('td')[3].text.strip(),\n",
    "             }\n",
    "    players_with_salary.append(player)\n",
    "    time.sleep(3)\n",
    "    count += 1\n",
    "    if count % 15 == 0:\n",
    "        print(count)\n",
    "        print(player)\n",
    "    "
   ]
  },
  {
   "cell_type": "code",
   "execution_count": 227,
   "metadata": {},
   "outputs": [
    {
     "data": {
      "text/html": [
       "<div>\n",
       "<style scoped>\n",
       "    .dataframe tbody tr th:only-of-type {\n",
       "        vertical-align: middle;\n",
       "    }\n",
       "\n",
       "    .dataframe tbody tr th {\n",
       "        vertical-align: top;\n",
       "    }\n",
       "\n",
       "    .dataframe thead th {\n",
       "        text-align: right;\n",
       "    }\n",
       "</style>\n",
       "<table border=\"1\" class=\"dataframe\">\n",
       "  <thead>\n",
       "    <tr style=\"text-align: right;\">\n",
       "      <th></th>\n",
       "      <th>player_name</th>\n",
       "      <th>19_20_salary</th>\n",
       "      <th>20_21_salary</th>\n",
       "    </tr>\n",
       "  </thead>\n",
       "  <tbody>\n",
       "    <tr>\n",
       "      <th>0</th>\n",
       "      <td>Stephen Curry</td>\n",
       "      <td>$40,231,758</td>\n",
       "      <td>$43,006,362</td>\n",
       "    </tr>\n",
       "    <tr>\n",
       "      <th>1</th>\n",
       "      <td>Russell Westbrook</td>\n",
       "      <td>$38,506,482</td>\n",
       "      <td>$41,358,814</td>\n",
       "    </tr>\n",
       "    <tr>\n",
       "      <th>2</th>\n",
       "      <td>Chris Paul</td>\n",
       "      <td>$38,506,482</td>\n",
       "      <td>$41,358,814</td>\n",
       "    </tr>\n",
       "    <tr>\n",
       "      <th>3</th>\n",
       "      <td>James Harden</td>\n",
       "      <td>$38,199,000</td>\n",
       "      <td>$41,254,920</td>\n",
       "    </tr>\n",
       "    <tr>\n",
       "      <th>4</th>\n",
       "      <td>John Wall</td>\n",
       "      <td>$38,199,000</td>\n",
       "      <td>$41,254,920</td>\n",
       "    </tr>\n",
       "    <tr>\n",
       "      <th>...</th>\n",
       "      <td>...</td>\n",
       "      <td>...</td>\n",
       "      <td>...</td>\n",
       "    </tr>\n",
       "    <tr>\n",
       "      <th>557</th>\n",
       "      <td>Garrison Mathews</td>\n",
       "      <td>$79,568</td>\n",
       "      <td>$0</td>\n",
       "    </tr>\n",
       "    <tr>\n",
       "      <th>558</th>\n",
       "      <td>Marques Bolden</td>\n",
       "      <td>$50,751</td>\n",
       "      <td>$0</td>\n",
       "    </tr>\n",
       "    <tr>\n",
       "      <th>559</th>\n",
       "      <td>Malik Newman</td>\n",
       "      <td>$50,751</td>\n",
       "      <td>$0</td>\n",
       "    </tr>\n",
       "    <tr>\n",
       "      <th>560</th>\n",
       "      <td>Eric Mika</td>\n",
       "      <td>$50,751</td>\n",
       "      <td>$0</td>\n",
       "    </tr>\n",
       "    <tr>\n",
       "      <th>561</th>\n",
       "      <td>Joe Chealey</td>\n",
       "      <td>$50,000</td>\n",
       "      <td>$0</td>\n",
       "    </tr>\n",
       "  </tbody>\n",
       "</table>\n",
       "<p>562 rows × 3 columns</p>\n",
       "</div>"
      ],
      "text/plain": [
       "           player_name 19_20_salary 20_21_salary\n",
       "0        Stephen Curry  $40,231,758  $43,006,362\n",
       "1    Russell Westbrook  $38,506,482  $41,358,814\n",
       "2           Chris Paul  $38,506,482  $41,358,814\n",
       "3         James Harden  $38,199,000  $41,254,920\n",
       "4            John Wall  $38,199,000  $41,254,920\n",
       "..                 ...          ...          ...\n",
       "557   Garrison Mathews      $79,568           $0\n",
       "558     Marques Bolden      $50,751           $0\n",
       "559       Malik Newman      $50,751           $0\n",
       "560          Eric Mika      $50,751           $0\n",
       "561        Joe Chealey      $50,000           $0\n",
       "\n",
       "[562 rows x 3 columns]"
      ]
     },
     "execution_count": 227,
     "metadata": {},
     "output_type": "execute_result"
    }
   ],
   "source": [
    "salary_df = pd.DataFrame(players_with_salary)\n",
    "salary_df"
   ]
  },
  {
   "cell_type": "code",
   "execution_count": 228,
   "metadata": {},
   "outputs": [],
   "source": [
    "salary_df.to_csv('datasets/salary.csv', index=False)"
   ]
  },
  {
   "cell_type": "markdown",
   "metadata": {},
   "source": [
    "## Lets get TEAM NAMES"
   ]
  },
  {
   "cell_type": "code",
   "execution_count": 229,
   "metadata": {},
   "outputs": [],
   "source": [
    "from nba_api.stats.endpoints import playerprofilev2"
   ]
  },
  {
   "cell_type": "code",
   "execution_count": 230,
   "metadata": {},
   "outputs": [],
   "source": [
    "playerprof = playerprofilev2.PlayerProfileV2(player_id=200746)"
   ]
  },
  {
   "cell_type": "code",
   "execution_count": 266,
   "metadata": {},
   "outputs": [],
   "source": [
    "from nba_api.stats.endpoints import playerprofilev2\n",
    "for each in \n",
    "playerprof = playerprofilev2.PlayerProfileV2(player_id=200746)\n",
    "players = playerprof.get_data_frames()[0]\n",
    "player_with_team = {'team_id' : players['TEAM_ID'].loc[players['SEASON_ID'] == '2019-20'],\n",
    "                    'player_id' : each}\n"
   ]
  },
  {
   "cell_type": "code",
   "execution_count": 259,
   "metadata": {},
   "outputs": [
    {
     "data": {
      "text/plain": [
       "13    1610612759\n",
       "Name: TEAM_ID, dtype: int64"
      ]
     },
     "execution_count": 259,
     "metadata": {},
     "output_type": "execute_result"
    }
   ],
   "source": []
  },
  {
   "cell_type": "code",
   "execution_count": 264,
   "metadata": {},
   "outputs": [
    {
     "data": {
      "text/plain": [
       "13    1610612759\n",
       "Name: TEAM_ID, dtype: int64"
      ]
     },
     "execution_count": 264,
     "metadata": {},
     "output_type": "execute_result"
    }
   ],
   "source": []
  },
  {
   "cell_type": "code",
   "execution_count": null,
   "metadata": {},
   "outputs": [],
   "source": []
  }
 ],
 "metadata": {
  "kernelspec": {
   "display_name": "Python 3",
   "language": "python",
   "name": "python3"
  },
  "language_info": {
   "codemirror_mode": {
    "name": "ipython",
    "version": 3
   },
   "file_extension": ".py",
   "mimetype": "text/x-python",
   "name": "python",
   "nbconvert_exporter": "python",
   "pygments_lexer": "ipython3",
   "version": "3.7.4"
  }
 },
 "nbformat": 4,
 "nbformat_minor": 2
}
