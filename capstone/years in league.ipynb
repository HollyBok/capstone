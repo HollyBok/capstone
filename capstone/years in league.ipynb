{
 "cells": [
  {
   "cell_type": "code",
   "execution_count": 48,
   "metadata": {},
   "outputs": [],
   "source": [
    "from nba_api.stats.endpoints import commonplayerinfo\n",
    "import pandas as pd\n",
    "import time"
   ]
  },
  {
   "cell_type": "code",
   "execution_count": 2,
   "metadata": {},
   "outputs": [],
   "source": [
    "common_info_test = commonplayerinfo.CommonPlayerInfo(player_id=203500)"
   ]
  },
  {
   "cell_type": "code",
   "execution_count": null,
   "metadata": {},
   "outputs": [],
   "source": []
  },
  {
   "cell_type": "code",
   "execution_count": null,
   "metadata": {},
   "outputs": [],
   "source": []
  },
  {
   "cell_type": "code",
   "execution_count": 9,
   "metadata": {},
   "outputs": [],
   "source": [
    "info_for_each = common_info_test.get_dict()['resultSets'][:1][0]['rowSet'][0] "
   ]
  },
  {
   "cell_type": "code",
   "execution_count": null,
   "metadata": {},
   "outputs": [],
   "source": []
  },
  {
   "cell_type": "code",
   "execution_count": 13,
   "metadata": {},
   "outputs": [],
   "source": [
    "common_info_headers = common_info_test.get_dict()['resultSets'][:1][0]['headers']"
   ]
  },
  {
   "cell_type": "code",
   "execution_count": null,
   "metadata": {},
   "outputs": [],
   "source": [
    "PERSON_ID, 'SCHOOL', 'COUNTrY' HEIGHT WEIGHT SEASON_EXP, JERSEY, FROM_YEAR, TO_YEAR,\n",
    "DRAFT_YEAR, DRAFT_ROUND, DRAFT_NUMBER"
   ]
  },
  {
   "cell_type": "code",
   "execution_count": null,
   "metadata": {},
   "outputs": [],
   "source": []
  },
  {
   "cell_type": "code",
   "execution_count": 21,
   "metadata": {},
   "outputs": [],
   "source": [
    "names_df = pd.read_csv('datasets/player_names.csv')"
   ]
  },
  {
   "cell_type": "code",
   "execution_count": 51,
   "metadata": {},
   "outputs": [
    {
     "name": "stdout",
     "output_type": "stream",
     "text": [
      "25\n",
      "50\n",
      "75\n",
      "100\n",
      "125\n",
      "150\n",
      "175\n",
      "200\n",
      "225\n",
      "250\n",
      "275\n",
      "300\n",
      "325\n",
      "350\n",
      "375\n",
      "400\n",
      "425\n",
      "450\n",
      "475\n",
      "500\n"
     ]
    }
   ],
   "source": [
    "players_common_info = []\n",
    "count = 0\n",
    "for each in names_df['player_id']:\n",
    "    common_info_test = commonplayerinfo.CommonPlayerInfo(player_id=each)\n",
    "    info_for_each = common_info_test.get_dict()['resultSets'][:1][0]['rowSet'][0] \n",
    "    player = {\n",
    "        'player_id': info_for_each[0],\n",
    "        'school': info_for_each[8],\n",
    "        'county':info_for_each[8],\n",
    "        'height':info_for_each[10],\n",
    "        'weight':info_for_each[11],\n",
    "        'seasons':info_for_each[12],\n",
    "        'jersey_number':info_for_each[13],\n",
    "        'from_year':info_for_each[22],\n",
    "        'to_year':info_for_each[23],\n",
    "        'draft_year':info_for_each[27],\n",
    "        'draft_round':info_for_each[28],\n",
    "        'draft_number':info_for_each[29],\n",
    "    }\n",
    "    players_common_info.append(player)\n",
    "    time.sleep(3)\n",
    "    count+=1\n",
    "    if count % 25 ==0:\n",
    "        print(count)\n"
   ]
  },
  {
   "cell_type": "code",
   "execution_count": 52,
   "metadata": {},
   "outputs": [],
   "source": [
    "common_info_df = pd.DataFrame(players_common_info)"
   ]
  },
  {
   "cell_type": "code",
   "execution_count": 54,
   "metadata": {},
   "outputs": [],
   "source": [
    "common_info_df.to_csv('datasets/player_common_info.csv')"
   ]
  },
  {
   "cell_type": "code",
   "execution_count": null,
   "metadata": {},
   "outputs": [],
   "source": []
  }
 ],
 "metadata": {
  "kernelspec": {
   "display_name": "Python 3",
   "language": "python",
   "name": "python3"
  },
  "language_info": {
   "codemirror_mode": {
    "name": "ipython",
    "version": 3
   },
   "file_extension": ".py",
   "mimetype": "text/x-python",
   "name": "python",
   "nbconvert_exporter": "python",
   "pygments_lexer": "ipython3",
   "version": "3.7.4"
  }
 },
 "nbformat": 4,
 "nbformat_minor": 2
}
