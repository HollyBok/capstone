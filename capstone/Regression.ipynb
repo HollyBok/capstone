{
 "cells": [
  {
   "cell_type": "code",
   "execution_count": 58,
   "metadata": {},
   "outputs": [],
   "source": [
    "import pandas as pd\n",
    "import numpy as np\n",
    "from sklearn.linear_model import LassoCV, RidgeCV\n",
    "from sklearn.model_selection import train_test_split\n",
    "from sklearn.preprocessing import StandardScaler"
   ]
  },
  {
   "cell_type": "code",
   "execution_count": 40,
   "metadata": {},
   "outputs": [],
   "source": [
    "df = pd.read_csv('datasets/ULTIMATECLUSTERED.csv')"
   ]
  },
  {
   "cell_type": "code",
   "execution_count": 41,
   "metadata": {},
   "outputs": [],
   "source": [
    "df.drop(columns=['Unnamed: 0'], inplace=True)"
   ]
  },
  {
   "cell_type": "code",
   "execution_count": 42,
   "metadata": {},
   "outputs": [],
   "source": [
    "df_numeric = df.drop(columns=['player_id', 'player_name', 'team', 'height', 'country',\n",
    "                             'draft_number_group'])"
   ]
  },
  {
   "cell_type": "code",
   "execution_count": 43,
   "metadata": {},
   "outputs": [
    {
     "data": {
      "text/html": [
       "<div>\n",
       "<style scoped>\n",
       "    .dataframe tbody tr th:only-of-type {\n",
       "        vertical-align: middle;\n",
       "    }\n",
       "\n",
       "    .dataframe tbody tr th {\n",
       "        vertical-align: top;\n",
       "    }\n",
       "\n",
       "    .dataframe thead th {\n",
       "        text-align: right;\n",
       "    }\n",
       "</style>\n",
       "<table border=\"1\" class=\"dataframe\">\n",
       "  <thead>\n",
       "    <tr style=\"text-align: right;\">\n",
       "      <th></th>\n",
       "      <th>weight</th>\n",
       "      <th>seasons</th>\n",
       "      <th>points</th>\n",
       "      <th>games</th>\n",
       "      <th>games_started</th>\n",
       "      <th>minutes_played</th>\n",
       "      <th>field_goals_made</th>\n",
       "      <th>3_pntrs_made</th>\n",
       "      <th>field_goals_pct_made</th>\n",
       "      <th>3_pntrs_pct_made</th>\n",
       "      <th>...</th>\n",
       "      <th>start_year</th>\n",
       "      <th>19_20_salary</th>\n",
       "      <th>avg_pnts_per_game</th>\n",
       "      <th>pct_of_games_started</th>\n",
       "      <th>heights_inches</th>\n",
       "      <th>draft_1st_pick</th>\n",
       "      <th>draft_2nd_pick</th>\n",
       "      <th>draft_undrafted</th>\n",
       "      <th>draft_nmbr_grp_rank</th>\n",
       "      <th>cluster</th>\n",
       "    </tr>\n",
       "  </thead>\n",
       "  <tbody>\n",
       "    <tr>\n",
       "      <th>0</th>\n",
       "      <td>230.0</td>\n",
       "      <td>4</td>\n",
       "      <td>1157</td>\n",
       "      <td>219</td>\n",
       "      <td>23</td>\n",
       "      <td>2874.0</td>\n",
       "      <td>409</td>\n",
       "      <td>138</td>\n",
       "      <td>0.417773</td>\n",
       "      <td>0.300000</td>\n",
       "      <td>...</td>\n",
       "      <td>2015</td>\n",
       "      <td>98143</td>\n",
       "      <td>5.283105</td>\n",
       "      <td>0.105023</td>\n",
       "      <td>78</td>\n",
       "      <td>1</td>\n",
       "      <td>0</td>\n",
       "      <td>0</td>\n",
       "      <td>3</td>\n",
       "      <td>14</td>\n",
       "    </tr>\n",
       "    <tr>\n",
       "      <th>1</th>\n",
       "      <td>240.0</td>\n",
       "      <td>11</td>\n",
       "      <td>8001</td>\n",
       "      <td>649</td>\n",
       "      <td>289</td>\n",
       "      <td>16768.0</td>\n",
       "      <td>2755</td>\n",
       "      <td>1325</td>\n",
       "      <td>0.421705</td>\n",
       "      <td>0.379547</td>\n",
       "      <td>...</td>\n",
       "      <td>2008</td>\n",
       "      <td>5714583</td>\n",
       "      <td>12.328197</td>\n",
       "      <td>0.445300</td>\n",
       "      <td>81</td>\n",
       "      <td>1</td>\n",
       "      <td>0</td>\n",
       "      <td>0</td>\n",
       "      <td>3</td>\n",
       "      <td>1</td>\n",
       "    </tr>\n",
       "    <tr>\n",
       "      <th>2</th>\n",
       "      <td>249.0</td>\n",
       "      <td>3</td>\n",
       "      <td>933</td>\n",
       "      <td>178</td>\n",
       "      <td>64</td>\n",
       "      <td>3560.0</td>\n",
       "      <td>342</td>\n",
       "      <td>172</td>\n",
       "      <td>0.396292</td>\n",
       "      <td>0.322701</td>\n",
       "      <td>...</td>\n",
       "      <td>2016</td>\n",
       "      <td>1678854</td>\n",
       "      <td>5.241573</td>\n",
       "      <td>0.359551</td>\n",
       "      <td>85</td>\n",
       "      <td>1</td>\n",
       "      <td>0</td>\n",
       "      <td>0</td>\n",
       "      <td>1</td>\n",
       "      <td>10</td>\n",
       "    </tr>\n",
       "  </tbody>\n",
       "</table>\n",
       "<p>3 rows × 31 columns</p>\n",
       "</div>"
      ],
      "text/plain": [
       "   weight  seasons  points  games  games_started  minutes_played  \\\n",
       "0   230.0        4    1157    219             23          2874.0   \n",
       "1   240.0       11    8001    649            289         16768.0   \n",
       "2   249.0        3     933    178             64          3560.0   \n",
       "\n",
       "   field_goals_made  3_pntrs_made  field_goals_pct_made  3_pntrs_pct_made  \\\n",
       "0               409           138              0.417773          0.300000   \n",
       "1              2755          1325              0.421705          0.379547   \n",
       "2               342           172              0.396292          0.322701   \n",
       "\n",
       "   ...  start_year  19_20_salary  avg_pnts_per_game  pct_of_games_started  \\\n",
       "0  ...        2015         98143           5.283105              0.105023   \n",
       "1  ...        2008       5714583          12.328197              0.445300   \n",
       "2  ...        2016       1678854           5.241573              0.359551   \n",
       "\n",
       "   heights_inches  draft_1st_pick  draft_2nd_pick  draft_undrafted  \\\n",
       "0              78               1               0                0   \n",
       "1              81               1               0                0   \n",
       "2              85               1               0                0   \n",
       "\n",
       "   draft_nmbr_grp_rank  cluster  \n",
       "0                    3       14  \n",
       "1                    3        1  \n",
       "2                    1       10  \n",
       "\n",
       "[3 rows x 31 columns]"
      ]
     },
     "execution_count": 43,
     "metadata": {},
     "output_type": "execute_result"
    }
   ],
   "source": [
    "df_numeric.head(3)"
   ]
  },
  {
   "cell_type": "code",
   "execution_count": 44,
   "metadata": {},
   "outputs": [],
   "source": [
    "X = df_numeric.drop(columns=['19_20_salary'])\n",
    "y = df_numeric['19_20_salary']"
   ]
  },
  {
   "cell_type": "code",
   "execution_count": 45,
   "metadata": {},
   "outputs": [],
   "source": [
    "X_train, X_test, y_train, y_test = train_test_split(X, y, test_size=0.33, random_state=13)"
   ]
  },
  {
   "cell_type": "code",
   "execution_count": 46,
   "metadata": {},
   "outputs": [],
   "source": [
    "ss = StandardScaler()\n",
    "X_train_sc = ss.fit_transform(X_train)\n",
    "X_test_sc = ss.transform(X_test)"
   ]
  },
  {
   "cell_type": "code",
   "execution_count": 47,
   "metadata": {},
   "outputs": [],
   "source": [
    "ls = LassoCV(max_iter = 5000, cv=5)\n",
    "ls.fit(X_train_sc, y_train);"
   ]
  },
  {
   "cell_type": "code",
   "execution_count": 48,
   "metadata": {},
   "outputs": [
    {
     "data": {
      "text/plain": [
       "(0.6977157622148982, 0.5006886437952827)"
      ]
     },
     "execution_count": 48,
     "metadata": {},
     "output_type": "execute_result"
    }
   ],
   "source": [
    "ls.score(X_train_sc, y_train), ls.score(X_test_sc, y_test)"
   ]
  },
  {
   "cell_type": "code",
   "execution_count": 50,
   "metadata": {},
   "outputs": [],
   "source": [
    "# Try ridge\n",
    "# Try PCA for feature selection\n",
    "# check out the details in the LASSO model\n",
    "# polynomial features "
   ]
  },
  {
   "cell_type": "code",
   "execution_count": 52,
   "metadata": {},
   "outputs": [],
   "source": [
    "X_train, X_test, y_train, y_test = train_test_split(X, y, test_size=0.33, random_state=13)\n",
    "ss = StandardScaler()\n",
    "X_train_sc = ss.fit_transform(X_train)\n",
    "X_test_sc = ss.transform(X_test)"
   ]
  },
  {
   "cell_type": "code",
   "execution_count": 74,
   "metadata": {},
   "outputs": [],
   "source": [
    "# this model performs better without running through the ridge_alphas and using the\n",
    "# default alpha\n",
    "\n",
    "ridge_alphas = np.logspace(0,5,1000)\n",
    "rg = RidgeCV(#alphas = ridge_alphas,\n",
    "    scoring='r2',\n",
    "    cv=5)\n",
    "rg.fit(X_train_sc, y_train);"
   ]
  },
  {
   "cell_type": "code",
   "execution_count": 75,
   "metadata": {},
   "outputs": [
    {
     "data": {
      "text/plain": [
       "(0.718293739391813, 0.5171273167895497)"
      ]
     },
     "execution_count": 75,
     "metadata": {},
     "output_type": "execute_result"
    }
   ],
   "source": [
    "rg.score(X_train_sc, y_train), rg.score(X_test_sc, y_test)"
   ]
  },
  {
   "cell_type": "code",
   "execution_count": 76,
   "metadata": {},
   "outputs": [],
   "source": [
    "from sklearn.decomposition import PCA"
   ]
  },
  {
   "cell_type": "code",
   "execution_count": 77,
   "metadata": {},
   "outputs": [],
   "source": [
    "pca = PCA()"
   ]
  },
  {
   "cell_type": "code",
   "execution_count": null,
   "metadata": {},
   "outputs": [],
   "source": []
  }
 ],
 "metadata": {
  "kernelspec": {
   "display_name": "Python 3",
   "language": "python",
   "name": "python3"
  },
  "language_info": {
   "codemirror_mode": {
    "name": "ipython",
    "version": 3
   },
   "file_extension": ".py",
   "mimetype": "text/x-python",
   "name": "python",
   "nbconvert_exporter": "python",
   "pygments_lexer": "ipython3",
   "version": "3.7.4"
  }
 },
 "nbformat": 4,
 "nbformat_minor": 2
}
