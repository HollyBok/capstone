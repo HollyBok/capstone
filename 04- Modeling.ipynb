{
 "cells": [
  {
   "cell_type": "markdown",
   "metadata": {},
   "source": [
    "# Regression Modeling"
   ]
  },
  {
   "cell_type": "markdown",
   "metadata": {},
   "source": [
    "Author: Holly Bok"
   ]
  },
  {
   "cell_type": "code",
   "execution_count": 1,
   "metadata": {},
   "outputs": [],
   "source": [
    "import pandas as pd\n",
    "import numpy as np\n",
    "import matplotlib.pyplot as plt\n",
    "from sklearn.linear_model import LassoCV, RidgeCV\n",
    "from sklearn.model_selection import train_test_split\n",
    "from sklearn.preprocessing import StandardScaler\n",
    "from sklearn.ensemble import RandomForestRegressor\n",
    "from sklearn.preprocessing import PolynomialFeatures\n",
    "from sklearn.model_selection import GridSearchCV\n",
    "from sklearn.svm import SVR\n",
    "from sklearn.decomposition import PCA"
   ]
  },
  {
   "cell_type": "code",
   "execution_count": 2,
   "metadata": {},
   "outputs": [],
   "source": [
    "# Reading in original DataFrame and saving as 'df'\n",
    "# Creating a new DataFrame, 'df_numeric', will all of the numeric columns for modeling\n",
    "\n",
    "df = pd.read_csv('datasets/NBAPlayersClustered.csv')\n",
    "df_numeric = df.drop(columns=['player_id', 'player_name', 'team', 'height',\n",
    "                             'draft_number_group'])"
   ]
  },
  {
   "cell_type": "code",
   "execution_count": 3,
   "metadata": {},
   "outputs": [
    {
     "data": {
      "text/plain": [
       "123    40231758\n",
       "Name: 19_20_salary, dtype: int64"
      ]
     },
     "execution_count": 3,
     "metadata": {},
     "output_type": "execute_result"
    }
   ],
   "source": [
    "df[df['player_name'] == 'Stephen Curry']['19_20_salary']"
   ]
  },
  {
   "cell_type": "code",
   "execution_count": 4,
   "metadata": {},
   "outputs": [],
   "source": [
    "# Setting X and y variables. The y variable, or target variable, is the 19/20 Season\n",
    "# salary of each player.\n",
    "# Running a train_test_split on the data to separate into training and testing sets.\n",
    "\n",
    "X = df_numeric.drop(columns=['19_20_salary'])\n",
    "y = df_numeric['19_20_salary']\n",
    "X_train, X_test, y_train, y_test = train_test_split(X, y,\n",
    "                                                    test_size=0.33, random_state=13)"
   ]
  },
  {
   "cell_type": "markdown",
   "metadata": {},
   "source": [
    "## Modeling"
   ]
  },
  {
   "cell_type": "markdown",
   "metadata": {},
   "source": [
    "### LassoCV"
   ]
  },
  {
   "cell_type": "code",
   "execution_count": 5,
   "metadata": {},
   "outputs": [],
   "source": [
    "# Using a StandardScaler to scale data\n",
    "\n",
    "ss = StandardScaler()\n",
    "X_train_sc = ss.fit_transform(X_train)\n",
    "X_test_sc = ss.transform(X_test)"
   ]
  },
  {
   "cell_type": "code",
   "execution_count": 6,
   "metadata": {},
   "outputs": [],
   "source": [
    "# Instantiating and fitting a LassoCV model and scoring for the testing and training\n",
    "# datasets \n",
    "\n",
    "ls = LassoCV(max_iter = 5000, cv=5)\n",
    "ls.fit(X_train_sc, y_train);"
   ]
  },
  {
   "cell_type": "code",
   "execution_count": 7,
   "metadata": {},
   "outputs": [
    {
     "name": "stdout",
     "output_type": "stream",
     "text": [
      "LassoCV training score:  0.672365682486175\n",
      "LassoCV testing score:  0.5730709666193523\n"
     ]
    }
   ],
   "source": [
    "# Printing training and testing scores\n",
    "\n",
    "print('LassoCV training score: ', ls.score(X_train_sc, y_train))\n",
    "print('LassoCV testing score: ', ls.score(X_test_sc, y_test))"
   ]
  },
  {
   "cell_type": "markdown",
   "metadata": {},
   "source": [
    "### RidgeCV"
   ]
  },
  {
   "cell_type": "code",
   "execution_count": 8,
   "metadata": {},
   "outputs": [],
   "source": [
    "# Using a StandardScaler to scale data\n",
    "\n",
    "ss = StandardScaler()\n",
    "X_train_sc = ss.fit_transform(X_train)\n",
    "X_test_sc = ss.transform(X_test)"
   ]
  },
  {
   "cell_type": "code",
   "execution_count": 9,
   "metadata": {},
   "outputs": [
    {
     "name": "stderr",
     "output_type": "stream",
     "text": [
      "/opt/anaconda3/lib/python3.7/site-packages/sklearn/model_selection/_search.py:814: DeprecationWarning: The default of the `iid` parameter will change from True to False in version 0.22 and will be removed in 0.24. This will change numeric results when test-set sizes are unequal.\n",
      "  DeprecationWarning)\n"
     ]
    }
   ],
   "source": [
    "# Instantiating and fitting a RidgeCV model and scoring for the testing and training\n",
    "# datasets\n",
    "\n",
    "ridge_alphas = np.logspace(0,5,1000)\n",
    "rg = RidgeCV(scoring='r2',\n",
    "    cv=5)\n",
    "rg.fit(X_train_sc, y_train);\n",
    "\n",
    "# The value for alpha was changed and tested for the RidgeCV model but the default\n",
    "# value resulted in the highest R2 testing score"
   ]
  },
  {
   "cell_type": "code",
   "execution_count": 10,
   "metadata": {},
   "outputs": [
    {
     "name": "stdout",
     "output_type": "stream",
     "text": [
      "RidgeCV training score:  0.700472017238835\n",
      "RidgeCV testing score:  0.5808824670160447\n"
     ]
    }
   ],
   "source": [
    "# Printing training and testing scores\n",
    "\n",
    "print('RidgeCV training score: ', rg.score(X_train_sc, y_train))\n",
    "print('RidgeCV testing score: ', rg.score(X_test_sc, y_test))"
   ]
  },
  {
   "cell_type": "markdown",
   "metadata": {},
   "source": [
    "### LassoCV and RidgeCV with PCA"
   ]
  },
  {
   "cell_type": "code",
   "execution_count": 11,
   "metadata": {},
   "outputs": [],
   "source": [
    "# Instantiating a PCA model for feature selection\n",
    "# The PCA model is set at n_components = 10 because the first 10 PCA features are able to\n",
    "# account for 95% of the variability in the data. \n",
    "\n",
    "pca = PCA(n_components=10)\n",
    "X_train_pca = pca.fit_transform(X_train_sc)\n",
    "X_test_pca = pca.transform(X_test_sc)\n",
    "\n",
    "\n",
    "\n",
    "###### DOUBLE CHECK ON THIS MEANING "
   ]
  },
  {
   "cell_type": "code",
   "execution_count": 12,
   "metadata": {},
   "outputs": [
    {
     "name": "stdout",
     "output_type": "stream",
     "text": [
      "LassoCV with PCA training score:  0.6618077313759201\n",
      "LassoCV with PCA testing score:  0.5715324573631061\n"
     ]
    }
   ],
   "source": [
    "# Instantiating and fitting a LassoCV model on features that have been manipulated with\n",
    "# PCA. Printing the training and testing scores. \n",
    "\n",
    "ls_pca = LassoCV(max_iter = 5000, cv=5)\n",
    "ls_pca.fit(X_train_pca, y_train);\n",
    "print('LassoCV with PCA training score: ', ls_pca.score(X_train_pca, y_train))\n",
    "print('LassoCV with PCA testing score: ', ls_pca.score(X_test_pca, y_test))"
   ]
  },
  {
   "cell_type": "code",
   "execution_count": 13,
   "metadata": {},
   "outputs": [
    {
     "name": "stdout",
     "output_type": "stream",
     "text": [
      "RidgeCV with PCA training score:  0.6631539836677258\n",
      "RidgeCV with PCA testing score:  0.5697290540156192\n"
     ]
    },
    {
     "name": "stderr",
     "output_type": "stream",
     "text": [
      "/opt/anaconda3/lib/python3.7/site-packages/sklearn/model_selection/_search.py:814: DeprecationWarning: The default of the `iid` parameter will change from True to False in version 0.22 and will be removed in 0.24. This will change numeric results when test-set sizes are unequal.\n",
      "  DeprecationWarning)\n"
     ]
    }
   ],
   "source": [
    "# Instantiating and fitting a RidgeCV model on features that have been manipulated with\n",
    "# PCA. Printing the training and testing scores. \n",
    "\n",
    "rg_pca = RidgeCV(\n",
    "    scoring='r2',\n",
    "    cv=5)\n",
    "rg_pca.fit(X_train_pca, y_train);\n",
    "print('RidgeCV with PCA training score: ', rg_pca.score(X_train_pca, y_train))\n",
    "print('RidgeCV with PCA testing score: ', rg_pca.score(X_test_pca, y_test))"
   ]
  },
  {
   "cell_type": "markdown",
   "metadata": {},
   "source": [
    "### LassoCV and RidgeCV with Polynomial Features"
   ]
  },
  {
   "cell_type": "code",
   "execution_count": 14,
   "metadata": {},
   "outputs": [],
   "source": [
    "# Insantiating a polynomial features object and transforming X_train and X_test\n",
    "\n",
    "pf = PolynomialFeatures()\n",
    "X_train_pf = pf.fit_transform(X_train_sc)\n",
    "X_test_pf = pf.transform(X_test_sc)"
   ]
  },
  {
   "cell_type": "code",
   "execution_count": 15,
   "metadata": {},
   "outputs": [
    {
     "name": "stderr",
     "output_type": "stream",
     "text": [
      "/opt/anaconda3/lib/python3.7/site-packages/sklearn/linear_model/coordinate_descent.py:475: ConvergenceWarning: Objective did not converge. You might want to increase the number of iterations. Duality gap: 2914152115888.5, tolerance: 1922111762635.6372\n",
      "  positive)\n",
      "/opt/anaconda3/lib/python3.7/site-packages/sklearn/linear_model/coordinate_descent.py:475: ConvergenceWarning: Objective did not converge. You might want to increase the number of iterations. Duality gap: 3485347608250.625, tolerance: 1922111762635.6372\n",
      "  positive)\n",
      "/opt/anaconda3/lib/python3.7/site-packages/sklearn/linear_model/coordinate_descent.py:475: ConvergenceWarning: Objective did not converge. You might want to increase the number of iterations. Duality gap: 8160718939018.0, tolerance: 1922111762635.6372\n",
      "  positive)\n",
      "/opt/anaconda3/lib/python3.7/site-packages/sklearn/linear_model/coordinate_descent.py:475: ConvergenceWarning: Objective did not converge. You might want to increase the number of iterations. Duality gap: 3179791576772.0, tolerance: 2168260041226.018\n",
      "  positive)\n",
      "/opt/anaconda3/lib/python3.7/site-packages/sklearn/linear_model/coordinate_descent.py:475: ConvergenceWarning: Objective did not converge. You might want to increase the number of iterations. Duality gap: 10670403844729.5, tolerance: 2168260041226.018\n",
      "  positive)\n",
      "/opt/anaconda3/lib/python3.7/site-packages/sklearn/linear_model/coordinate_descent.py:475: ConvergenceWarning: Objective did not converge. You might want to increase the number of iterations. Duality gap: 9030731872130.125, tolerance: 2168260041226.018\n",
      "  positive)\n",
      "/opt/anaconda3/lib/python3.7/site-packages/sklearn/linear_model/coordinate_descent.py:475: ConvergenceWarning: Objective did not converge. You might want to increase the number of iterations. Duality gap: 2006553446641.5, tolerance: 1950169341437.4473\n",
      "  positive)\n",
      "/opt/anaconda3/lib/python3.7/site-packages/sklearn/linear_model/coordinate_descent.py:475: ConvergenceWarning: Objective did not converge. You might want to increase the number of iterations. Duality gap: 3775650945333.25, tolerance: 1950169341437.4473\n",
      "  positive)\n",
      "/opt/anaconda3/lib/python3.7/site-packages/sklearn/linear_model/coordinate_descent.py:475: ConvergenceWarning: Objective did not converge. You might want to increase the number of iterations. Duality gap: 3965862778910.0, tolerance: 1950169341437.4473\n",
      "  positive)\n",
      "/opt/anaconda3/lib/python3.7/site-packages/sklearn/linear_model/coordinate_descent.py:475: ConvergenceWarning: Objective did not converge. You might want to increase the number of iterations. Duality gap: 6808447717256.25, tolerance: 2203900281949.328\n",
      "  positive)\n",
      "/opt/anaconda3/lib/python3.7/site-packages/sklearn/linear_model/coordinate_descent.py:475: ConvergenceWarning: Objective did not converge. You might want to increase the number of iterations. Duality gap: 5058137679833.0, tolerance: 2203900281949.328\n",
      "  positive)\n",
      "/opt/anaconda3/lib/python3.7/site-packages/sklearn/linear_model/coordinate_descent.py:475: ConvergenceWarning: Objective did not converge. You might want to increase the number of iterations. Duality gap: 3186728516105.25, tolerance: 2203900281949.328\n",
      "  positive)\n",
      "/opt/anaconda3/lib/python3.7/site-packages/sklearn/linear_model/coordinate_descent.py:475: ConvergenceWarning: Objective did not converge. You might want to increase the number of iterations. Duality gap: 3616404401371.0, tolerance: 2203900281949.328\n",
      "  positive)\n",
      "/opt/anaconda3/lib/python3.7/site-packages/sklearn/linear_model/coordinate_descent.py:475: ConvergenceWarning: Objective did not converge. You might want to increase the number of iterations. Duality gap: 2752074219391.75, tolerance: 2203900281949.328\n",
      "  positive)\n",
      "/opt/anaconda3/lib/python3.7/site-packages/sklearn/linear_model/coordinate_descent.py:475: ConvergenceWarning: Objective did not converge. You might want to increase the number of iterations. Duality gap: 3715474180681.25, tolerance: 2085013328899.9912\n",
      "  positive)\n",
      "/opt/anaconda3/lib/python3.7/site-packages/sklearn/linear_model/coordinate_descent.py:475: ConvergenceWarning: Objective did not converge. You might want to increase the number of iterations. Duality gap: 4344677009956.125, tolerance: 2085013328899.9912\n",
      "  positive)\n",
      "/opt/anaconda3/lib/python3.7/site-packages/sklearn/linear_model/coordinate_descent.py:475: ConvergenceWarning: Objective did not converge. You might want to increase the number of iterations. Duality gap: 6726984218758.625, tolerance: 2085013328899.9912\n",
      "  positive)\n"
     ]
    },
    {
     "name": "stdout",
     "output_type": "stream",
     "text": [
      "LassoCV with PF training score:  0.7701446948263703\n",
      "LassoCV with PF testing score:  0.5971776723410374\n"
     ]
    }
   ],
   "source": [
    "# Instantiating and fitting a LassoCV model on features that have been manipulated with\n",
    "# Polynomial Features. Printing the training and testing scores. \n",
    "\n",
    "ls_pf = LassoCV(max_iter = 5000, cv=5)\n",
    "ls_pf.fit(X_train_pf, y_train);\n",
    "print('LassoCV with PF training score: ', ls_pf.score(X_train_pf, y_train))\n",
    "print('LassoCV with PF testing score: ', ls_pf.score(X_test_pf, y_test))"
   ]
  },
  {
   "cell_type": "code",
   "execution_count": 16,
   "metadata": {},
   "outputs": [
    {
     "name": "stdout",
     "output_type": "stream",
     "text": [
      "RidgeCV with PF training score:  0.9397494118942956\n",
      "RidgeCV with PF testing score:  0.6344305160835713\n"
     ]
    },
    {
     "name": "stderr",
     "output_type": "stream",
     "text": [
      "/opt/anaconda3/lib/python3.7/site-packages/sklearn/model_selection/_search.py:814: DeprecationWarning: The default of the `iid` parameter will change from True to False in version 0.22 and will be removed in 0.24. This will change numeric results when test-set sizes are unequal.\n",
      "  DeprecationWarning)\n"
     ]
    }
   ],
   "source": [
    "# Instantiating and fitting a RidgeCV model on features that have been manipulated with\n",
    "# Polynomial Features. Printing the training and testing scores.\n",
    "\n",
    "rg_pf = RidgeCV(\n",
    "    scoring='r2',\n",
    "    cv=5)\n",
    "rg_pf.fit(X_train_pf, y_train);\n",
    "print('RidgeCV with PF training score: ', rg_pf.score(X_train_pf, y_train))\n",
    "print('RidgeCV with PF testing score: ', rg_pf.score(X_test_pf, y_test))"
   ]
  },
  {
   "cell_type": "markdown",
   "metadata": {},
   "source": [
    "### LassoCV and RidgeCV with Polynomial Features AND PCA"
   ]
  },
  {
   "cell_type": "code",
   "execution_count": 17,
   "metadata": {},
   "outputs": [],
   "source": [
    "# Instantiating a PCA object and fitting to the X_train and X_test data that has already\n",
    "# been transformed using the Polynomial Features object. \n",
    "# The PCA model is set at n_components = 10 because the first 10 PCA features are able to\n",
    "# account for 95% of the variability in the data.\n",
    "\n",
    "pca = PCA(n_components = 15)\n",
    "X_train_pf_pca = pca.fit_transform(X_train_pf)\n",
    "X_test_pf_pca = pca.transform(X_test_pf)"
   ]
  },
  {
   "cell_type": "code",
   "execution_count": 18,
   "metadata": {},
   "outputs": [
    {
     "name": "stdout",
     "output_type": "stream",
     "text": [
      "LassoCV with PF and PCA training score:  0.7339618393085113\n",
      "LassoCV with PF and PCA testing score:  0.5364411974771343\n"
     ]
    }
   ],
   "source": [
    "# Instantiating and fitting a LassoCV model on features that have been manipulated with\n",
    "# Polynomial Features AND PCA. Printing the training and testing scores. \n",
    "\n",
    "ls_pf_pca = LassoCV(max_iter = 5000, cv=5)\n",
    "ls_pf_pca.fit(X_train_pf_pca, y_train);\n",
    "print('LassoCV with PF and PCA training score: ', ls_pf_pca.score(X_train_pf_pca, y_train))\n",
    "print('LassoCV with PF and PCA testing score: ', ls_pf_pca.score(X_test_pf_pca, y_test))"
   ]
  },
  {
   "cell_type": "code",
   "execution_count": 19,
   "metadata": {},
   "outputs": [
    {
     "name": "stdout",
     "output_type": "stream",
     "text": [
      "RidgeCV with PF and PCA training score:  0.7392025012336042\n",
      "RidgeCV with PF and PCA testing score:  0.5263036852871661\n"
     ]
    },
    {
     "name": "stderr",
     "output_type": "stream",
     "text": [
      "/opt/anaconda3/lib/python3.7/site-packages/sklearn/model_selection/_search.py:814: DeprecationWarning: The default of the `iid` parameter will change from True to False in version 0.22 and will be removed in 0.24. This will change numeric results when test-set sizes are unequal.\n",
      "  DeprecationWarning)\n"
     ]
    }
   ],
   "source": [
    "# Instantiating and fitting a LassoCV model on features that have been manipulated with\n",
    "# Polynomial Features AND PCA. Printing the training and testing scores. \n",
    "\n",
    "rg_pf_pca = RidgeCV(\n",
    "    scoring='r2',\n",
    "    cv=5)\n",
    "rg_pf_pca.fit(X_train_pf_pca, y_train);\n",
    "print('RidgeCV with PF and PCA training score: ', rg_pf_pca.score(X_train_pf_pca, y_train))\n",
    "print('RidgeCV with PF and PCA testing score: ', rg_pf_pca.score(X_test_pf_pca, y_test))"
   ]
  },
  {
   "cell_type": "markdown",
   "metadata": {},
   "source": [
    "### Random Forest Model"
   ]
  },
  {
   "cell_type": "code",
   "execution_count": 20,
   "metadata": {},
   "outputs": [
    {
     "name": "stdout",
     "output_type": "stream",
     "text": [
      "Random Forest Regressor train_score:  0.901931195232552\n",
      "Random Forest Regressor testing_score:  0.6265861314264569\n"
     ]
    },
    {
     "name": "stderr",
     "output_type": "stream",
     "text": [
      "/opt/anaconda3/lib/python3.7/site-packages/sklearn/model_selection/_search.py:814: DeprecationWarning: The default of the `iid` parameter will change from True to False in version 0.22 and will be removed in 0.24. This will change numeric results when test-set sizes are unequal.\n",
      "  DeprecationWarning)\n"
     ]
    }
   ],
   "source": [
    "# Instantiating and fitting a Random Forest Model\n",
    "# Gridsearching through possible hyperparameters and setting the ran_f model to the best\n",
    "# model created through the GridSearch\n",
    "\n",
    "ran_f = RandomForestRegressor()\n",
    "\n",
    "grid_params = ({\n",
    "    'n_estimators' : [10, 100, 150],\n",
    "    'max_depth' : [2, 4, 6, 10, 15],\n",
    "    'min_samples_split': [2, 8, 10],\n",
    "    'min_samples_leaf' : [1 , 2, 3, 4],\n",
    "})\n",
    "\n",
    "gs = GridSearchCV(ran_f, param_grid = grid_params, cv=5)\n",
    "gs.fit(X_train, y_train)\n",
    "ran_f = gs.best_estimator_\n",
    "\n",
    "print('Random Forest Regressor train_score: ', ran_f.score(X_train, y_train))\n",
    "print('Random Forest Regressor testing_score: ', ran_f.score(X_test, y_test))"
   ]
  },
  {
   "cell_type": "markdown",
   "metadata": {},
   "source": [
    "### SVR Model"
   ]
  },
  {
   "cell_type": "code",
   "execution_count": 21,
   "metadata": {},
   "outputs": [
    {
     "name": "stdout",
     "output_type": "stream",
     "text": [
      "SVR train_score:  -0.21924112631411205\n",
      "SVR testing_score:  -0.25406736101280236\n"
     ]
    },
    {
     "name": "stderr",
     "output_type": "stream",
     "text": [
      "/opt/anaconda3/lib/python3.7/site-packages/sklearn/svm/base.py:193: FutureWarning: The default value of gamma will change from 'auto' to 'scale' in version 0.22 to account better for unscaled features. Set gamma explicitly to 'auto' or 'scale' to avoid this warning.\n",
      "  \"avoid this warning.\", FutureWarning)\n"
     ]
    }
   ],
   "source": [
    "# SVR\n",
    "\n",
    "svr = SVR()\n",
    "svr.fit(X_train, y_train)\n",
    "svr.score(X_train, y_train), svr.score(X_test, y_test)\n",
    "\n",
    "print('SVR train_score: ', svr.score(X_train, y_train))\n",
    "print('SVR testing_score: ', svr.score(X_test, y_test))"
   ]
  },
  {
   "cell_type": "markdown",
   "metadata": {},
   "source": [
    "### Making Predictions"
   ]
  },
  {
   "cell_type": "code",
   "execution_count": 22,
   "metadata": {},
   "outputs": [],
   "source": [
    "# Making predictions using the best_model, 'ls_pf'\n",
    "\n",
    "predictions = ls_pf.predict(X_test_pf)\n",
    "residuals = y_test - predictions"
   ]
  },
  {
   "cell_type": "code",
   "execution_count": 23,
   "metadata": {},
   "outputs": [],
   "source": [
    "test_df = pd.DataFrame(y_test)\n",
    "test_df['predicted'] = predictions\n",
    "test_df['residuals'] = residuals\n",
    "test_df = pd.merge(test_df, df, left_index=True, right_index=True, how='left')\n",
    "test_df['residuals'] = test_df['residuals'].abs()"
   ]
  },
  {
   "cell_type": "code",
   "execution_count": 24,
   "metadata": {},
   "outputs": [],
   "source": [
    "test_df.to_csv('datasets/SalaryPredictions.csv', index=False)"
   ]
  },
  {
   "cell_type": "markdown",
   "metadata": {},
   "source": [
    "### Isolating Coefficients"
   ]
  },
  {
   "cell_type": "code",
   "execution_count": 25,
   "metadata": {},
   "outputs": [],
   "source": [
    "# Creating a new DataFrame, _coef, that has the polynomial feature names and the\n",
    "# coefficients for each feature\n",
    "\n",
    "_coef = pd.DataFrame({\n",
    "    'feature': pf.get_feature_names(X_train.columns),\n",
    "    'coef': ls_pf.coef_\n",
    "})"
   ]
  },
  {
   "cell_type": "code",
   "execution_count": 26,
   "metadata": {},
   "outputs": [],
   "source": [
    "# Isolating the coefficients that are above or below 0 and exporting them as a .csv called\n",
    "# 'NAME' for use in analysis\n",
    "\n",
    "coefficients = _coef[_coef['coef'] != 0]\n",
    "coefficients.to_csv('datasets/Coefficients.csv', index=False)"
   ]
  }
 ],
 "metadata": {
  "kernelspec": {
   "display_name": "Python 3",
   "language": "python",
   "name": "python3"
  },
  "language_info": {
   "codemirror_mode": {
    "name": "ipython",
    "version": 3
   },
   "file_extension": ".py",
   "mimetype": "text/x-python",
   "name": "python",
   "nbconvert_exporter": "python",
   "pygments_lexer": "ipython3",
   "version": "3.7.4"
  }
 },
 "nbformat": 4,
 "nbformat_minor": 2
}
