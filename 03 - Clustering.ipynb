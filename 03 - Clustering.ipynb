{
 "cells": [
  {
   "cell_type": "markdown",
   "metadata": {},
   "source": [
    "# Clustering"
   ]
  },
  {
   "cell_type": "markdown",
   "metadata": {},
   "source": [
    "Author: Holly Bok"
   ]
  },
  {
   "cell_type": "code",
   "execution_count": 1,
   "metadata": {},
   "outputs": [],
   "source": [
    "import pandas as pd\n",
    "import matplotlib.pyplot as plt\n",
    "from sklearn.preprocessing import StandardScaler\n",
    "from sklearn.cluster import DBSCAN, KMeans\n",
    "from sklearn.metrics import silhouette_score"
   ]
  },
  {
   "cell_type": "code",
   "execution_count": 2,
   "metadata": {},
   "outputs": [],
   "source": [
    "# Reading in the clean NBA Players csv as 'df'\n",
    "\n",
    "df = pd.read_csv('datasets/NBAPlayers.csv')"
   ]
  },
  {
   "cell_type": "code",
   "execution_count": 3,
   "metadata": {},
   "outputs": [],
   "source": [
    "# Dropping all non-numeric columns as well as colunns that directly refer to salary.\n",
    "# Creating a new DataFrame, 'df_numeric' for input into clustering algorithms\n",
    "\n",
    "df_numeric = df.drop(columns=['player_name', 'team', 'height', '19_20_salary', \n",
    "                             'draft_number_group','future_salary'])"
   ]
  },
  {
   "cell_type": "markdown",
   "metadata": {},
   "source": [
    "## KMeans"
   ]
  },
  {
   "cell_type": "code",
   "execution_count": 4,
   "metadata": {},
   "outputs": [
    {
     "name": "stdout",
     "output_type": "stream",
     "text": [
      "0.19597579973971418\n",
      "{0, 1, 2, 3, 4, 5, 6, 7, 8, 9, 10, 11, 12, 13, 14, 15, 16, 17, 18, 19}\n"
     ]
    }
   ],
   "source": [
    "# Scaling data using the Standard Scaler and fitting a KMeans model to the transformed\n",
    "# data. Printing the silhouette score as well as a list of unique clusters. \n",
    "\n",
    "ss = StandardScaler()\n",
    "df_scaled = ss.fit_transform(df_numeric)\n",
    "\n",
    "km = KMeans(n_clusters=20) \n",
    "km.fit(df_scaled)\n",
    "\n",
    "print(silhouette_score(df_scaled, km.labels_))\n",
    "print(set(km.labels_))\n",
    "\n",
    "# Note: n_clusters of 20 is selected because this number created the highest silhouette\n",
    "# score of all of the n_clusters values that I tested "
   ]
  },
  {
   "cell_type": "code",
   "execution_count": 5,
   "metadata": {},
   "outputs": [
    {
     "data": {
      "text/plain": [
       "16    51\n",
       "6     44\n",
       "10    42\n",
       "2     41\n",
       "17    31\n",
       "0     30\n",
       "1     28\n",
       "5     27\n",
       "4     22\n",
       "11    21\n",
       "19    19\n",
       "7     18\n",
       "14    17\n",
       "18    15\n",
       "15    14\n",
       "8     13\n",
       "13    11\n",
       "9     11\n",
       "12     7\n",
       "3      5\n",
       "Name: cluster, dtype: int64"
      ]
     },
     "execution_count": 5,
     "metadata": {},
     "output_type": "execute_result"
    }
   ],
   "source": [
    "# Creating a new column, 'cluster', that has the cluster assignments for each player\n",
    "# Observing how many players are assigned to each cluster\n",
    "\n",
    "df['cluster'] = km.labels_\n",
    "df['cluster'].value_counts()"
   ]
  },
  {
   "cell_type": "code",
   "execution_count": 6,
   "metadata": {},
   "outputs": [],
   "source": [
    "# Saving the updated dataset as 'NBAPlayersClustered.csv' for use in modeling\n",
    "\n",
    "df.to_csv('datasets/NBAPlayersClustered.csv', index=False)"
   ]
  },
  {
   "cell_type": "code",
   "execution_count": 7,
   "metadata": {},
   "outputs": [
    {
     "data": {
      "image/png": "[encoded data removed]",
      "text/plain": [
       "<Figure size 432x288 with 1 Axes>"
      ]
     },
     "metadata": {
      "needs_background": "light"
     },
     "output_type": "display_data"
    }
   ],
   "source": [
    "# Visualizing the difference between the average salaries of each cluster\n",
    "\n",
    "clusters = df.groupby(df['cluster'])['19_20_salary'].mean().sort_values(ascending=False)\n",
    "plt.bar(x = clusters.index,\n",
    "        height = df.groupby(df['cluster'])['19_20_salary'].mean().sort_values(\n",
    "            ascending=False))\n",
    "plt.title('Average Salary by Cluster \\n n_clusters = 20 ; KMeans')\n",
    "plt.xlabel('cluster')\n",
    "plt.ylabel('avg salary');"
   ]
  },
  {
   "cell_type": "markdown",
   "metadata": {},
   "source": [
    "### DBSCAN"
   ]
  },
  {
   "cell_type": "markdown",
   "metadata": {},
   "source": [
    "The following DBSCAN methods were not able to produce clusters as distinct as the KMeans clustering method above.  The silhouette score and list of clusters is printed for each method.\n",
    "\n",
    "Note: the epsilon and minimum samples listed for each DBSCAN method were selected based on success through trial and error"
   ]
  },
  {
   "cell_type": "code",
   "execution_count": 8,
   "metadata": {},
   "outputs": [
    {
     "name": "stdout",
     "output_type": "stream",
     "text": [
      "{0, 1, 2, 3, -1}\n",
      "0.1564029878225046\n"
     ]
    }
   ],
   "source": [
    "# DBSCAN with the entirety of 'df_numeric'\n",
    "\n",
    "ss = StandardScaler()\n",
    "df_scaled = ss.fit_transform(df_numeric)\n",
    "dbscan = DBSCAN(eps=3, min_samples=7)\n",
    "dbscan.fit(df_scaled)\n",
    "\n",
    "print(set(dbscan.labels_))\n",
    "print(silhouette_score(df_scaled, dbscan.labels_))"
   ]
  },
  {
   "cell_type": "code",
   "execution_count": 9,
   "metadata": {},
   "outputs": [],
   "source": [
    "# Creating a dataset with random grouping of features for testing with the DBSCAN method\n",
    "\n",
    "df_test_set = df[['player_id', 'weight', 'points', 'seasons', 'games_started',\n",
    "                  'minutes_played', 'field_goals_pct_made', '3_pntrs_pct_made',\n",
    "                  'personal_fouls', 'avg_pnts_per_game', 'heights_inches']]"
   ]
  },
  {
   "cell_type": "code",
   "execution_count": 10,
   "metadata": {},
   "outputs": [
    {
     "name": "stdout",
     "output_type": "stream",
     "text": [
      "{0, 1, 2, 3, 4, 5, 6, -1}\n"
     ]
    },
    {
     "data": {
      "text/plain": [
       "-0.07086700602058445"
      ]
     },
     "execution_count": 10,
     "metadata": {},
     "output_type": "execute_result"
    }
   ],
   "source": [
    "ss = StandardScaler()\n",
    "test_set_transformed = ss.fit_transform(df_test_set)\n",
    "dbscan = DBSCAN(eps=1, min_samples= 5)\n",
    "dbscan.fit(test_set_transformed)\n",
    "print(set(dbscan.labels_))\n",
    "silhouette_score(test_set_transformed, dbscan.labels_)"
   ]
  },
  {
   "cell_type": "code",
   "execution_count": 11,
   "metadata": {},
   "outputs": [],
   "source": [
    "# Creating a dataset with all game-play features for testing with the DBSCAN method\n",
    "\n",
    "df_stats = df[['seasons', 'points', 'games', 'games_started', 'minutes_played',\n",
    "       'field_goals_made', '3_pntrs_made', 'field_goals_pct_made',\n",
    "       '3_pntrs_pct_made', 'ft_pct', 'field_goals_assisted', '3_pntrs_assists',\n",
    "       'rebounds', 'assists_to_turnovers', 'offensive_rebounds',\n",
    "       'defensive_rebounds', 'steals', 'blocks', 'turnovers', 'personal_fouls',\n",
    "       'avg_pnts_per_game', 'pct_of_games_started']]"
   ]
  },
  {
   "cell_type": "code",
   "execution_count": 12,
   "metadata": {},
   "outputs": [
    {
     "name": "stdout",
     "output_type": "stream",
     "text": [
      "{0, 1, 2, 3, -1}\n",
      "0.0776143570266231\n"
     ]
    }
   ],
   "source": [
    "ss = StandardScaler()\n",
    "df_stats_transformed = ss.fit_transform(df_stats)\n",
    "dbscan = DBSCAN(eps=1)\n",
    "dbscan.fit(df_stats_transformed)\n",
    "print(set(dbscan.labels_))\n",
    "print(silhouette_score(df_stats_transformed, dbscan.labels_))"
   ]
  },
  {
   "cell_type": "code",
   "execution_count": 13,
   "metadata": {},
   "outputs": [],
   "source": [
    "# Creating a dataset with all highly correlated features for testing with the DBSCAN\n",
    "# method. Correlation for all features can be found in the '02-EDA' file of this repo\n",
    "\n",
    "df_high_corr = df[['3_pntrs_assists', 'rebounds', 'personal_fouls', 'games',\n",
    "                  'defensive_rebounds', 'pct_of_games_started', 'assists_to_turnovers',\n",
    "                  'steals', 'minutes_played', 'turnovers', 'games_started', \n",
    "                  'field_goals_assisted', 'field_goals_made', 'avg_pnts_per_game',\n",
    "                  'points']]"
   ]
  },
  {
   "cell_type": "code",
   "execution_count": 14,
   "metadata": {},
   "outputs": [
    {
     "name": "stdout",
     "output_type": "stream",
     "text": [
      "{0, 1, 2, -1}\n",
      "0.109132032501988\n"
     ]
    }
   ],
   "source": [
    "ss = StandardScaler()\n",
    "df_high_corr_transformed = ss.fit_transform(df_high_corr)\n",
    "dbscan = DBSCAN(eps=.5, min_samples=5)\n",
    "dbscan.fit(df_high_corr_transformed)\n",
    "print(set(dbscan.labels_))\n",
    "print(silhouette_score(df_high_corr_transformed, dbscan.labels_))"
   ]
  },
  {
   "cell_type": "code",
   "execution_count": 15,
   "metadata": {},
   "outputs": [],
   "source": [
    "# Creating a dataset with a small set of features for testing with the DBSCAN method\n",
    "\n",
    "df_small = df[['3_pntrs_assists', 'rebounds', 'personal_fouls', 'games',\n",
    "                  'defensive_rebounds', 'assists_to_turnovers',\n",
    "                  'steals', 'minutes_played', 'turnovers', 'games_started', \n",
    "                  'field_goals_assisted', 'field_goals_made',\n",
    "                  'points']]"
   ]
  },
  {
   "cell_type": "code",
   "execution_count": 16,
   "metadata": {},
   "outputs": [
    {
     "name": "stdout",
     "output_type": "stream",
     "text": [
      "{0, 1, 2, -1}\n",
      "0.08037002638967645\n"
     ]
    }
   ],
   "source": [
    "ss = StandardScaler()\n",
    "df_small_transformed = ss.fit_transform(df_small)\n",
    "dbscan = DBSCAN(eps=.5, min_samples=3)\n",
    "dbscan.fit(df_small_transformed)\n",
    "print(set(dbscan.labels_))\n",
    "print(silhouette_score(df_high_corr_transformed, dbscan.labels_))"
   ]
  }
 ],
 "metadata": {
  "kernelspec": {
   "display_name": "Python 3",
   "language": "python",
   "name": "python3"
  },
  "language_info": {
   "codemirror_mode": {
    "name": "ipython",
    "version": 3
   },
   "file_extension": ".py",
   "mimetype": "text/x-python",
   "name": "python",
   "nbconvert_exporter": "python",
   "pygments_lexer": "ipython3",
   "version": "3.7.4"
  }
 },
 "nbformat": 4,
 "nbformat_minor": 2
}
