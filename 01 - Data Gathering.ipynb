{
 "cells": [
  {
   "cell_type": "markdown",
   "metadata": {},
   "source": [
    "# Data Collection & DataFrame Structuring"
   ]
  },
  {
   "cell_type": "markdown",
   "metadata": {},
   "source": [
    "Author: Holly Bok"
   ]
  },
  {
   "cell_type": "markdown",
   "metadata": {},
   "source": [
    "## NBA API"
   ]
  },
  {
   "cell_type": "code",
   "execution_count": 1,
   "metadata": {},
   "outputs": [],
   "source": [
    "# Importing packages\n",
    "# Information and documentation on the NBA API maintained by user 'swar' can be found at:\n",
    "# https://github.com/swar/nba_api\n",
    "\n",
    "import pandas as pd\n",
    "import numpy as np\n",
    "from nba_api.stats.static import players\n",
    "from nba_api.stats.endpoints import playercareerstats\n",
    "from nba_api.stats.endpoints import commonplayerinfo\n",
    "from bs4 import BeautifulSoup\n",
    "import requests\n",
    "import time"
   ]
  },
  {
   "cell_type": "markdown",
   "metadata": {},
   "source": [
    "### Active Players List"
   ]
  },
  {
   "cell_type": "code",
   "execution_count": 2,
   "metadata": {},
   "outputs": [],
   "source": [
    "# Creating a list of active NBA players and saving in a DataFrame called\n",
    "# 'active_players_df'\n",
    "\n",
    "nba_players = players.get_players()\n",
    "player_names = []\n",
    "player_ids = []\n",
    "player_active = []\n",
    "\n",
    "for each in nba_players:\n",
    "    player_names.append(each['full_name'])\n",
    "    player_ids.append(each['id'])\n",
    "    player_active.append(each['is_active'])\n",
    "    \n",
    "players_df = pd.DataFrame({'player_name': player_names,\n",
    "                          'player_id': player_ids,\n",
    "                          'active' : player_active})\n",
    "active_players_df = players_df[players_df['active'] == True]"
   ]
  },
  {
   "cell_type": "markdown",
   "metadata": {},
   "source": [
    "### Career Stats"
   ]
  },
  {
   "cell_type": "code",
   "execution_count": 3,
   "metadata": {},
   "outputs": [
    {
     "name": "stdout",
     "output_type": "stream",
     "text": [
      "Count: 100\n",
      "Count: 200\n",
      "Count: 300\n",
      "Count: 400\n",
      "Count: 500\n",
      "Done!\n"
     ]
    }
   ],
   "source": [
    "# Iterating through all players in the active players DataFrame and gathering information\n",
    "# from the PlayerCareerStats endpoint. Saving career statistics in a new DataFrame called\n",
    "# 'career_stats_df'\n",
    "\n",
    "career_stats = []\n",
    "errors = []\n",
    "count = 0\n",
    "for each in active_players_df['player_id']:\n",
    "    stats = playercareerstats.PlayerCareerStats(player_id=each)\n",
    "    stats = stats.get_data_frames()[1]\n",
    "    try:\n",
    "        player_career = {'player_id': stats['PLAYER_ID'][0],\n",
    "                         'league_id' : stats['LEAGUE_ID'][0],\n",
    "                         'team_id' : stats['Team_ID'][0],\n",
    "                         'gp' : stats['GP'][0],\n",
    "                         'gs' : stats['GS'][0],\n",
    "                         'min' : stats['MIN'][0],\n",
    "                         'fgm' : stats['FGM'][0],\n",
    "                         'fga' : stats['FGA'][0],\n",
    "                         'fg_pct' : stats['FG_PCT'][0],\n",
    "                         'fg3m' : stats['FG3M'][0],\n",
    "                         'fg3a' : stats['FG3A'][0],\n",
    "                         'fg3_pct' : stats['FG3_PCT'][0],\n",
    "                         'ft_pct' : stats['FT_PCT'][0],\n",
    "                         'oreb' : stats['OREB'][0],\n",
    "                         'dreb' : stats['DREB'][0],\n",
    "                         'reb' : stats['REB'][0],\n",
    "                         'ast' : stats['AST'][0],\n",
    "                         'stl' : stats['STL'][0],\n",
    "                         'blk' : stats['BLK'][0],\n",
    "                         'tov' : stats['TOV'][0],\n",
    "                         'pf' : stats['PF'][0],\n",
    "                         'pts' : stats['PTS'][0], \n",
    "                        }\n",
    "    except:\n",
    "        errors.append(each)\n",
    "    career_stats.append(player_career)\n",
    "    count += 1\n",
    "    time.sleep(3)\n",
    "    if count % 100 == 0:\n",
    "        print('Count:', count)\n",
    "\n",
    "print('Done!')\n",
    "        \n",
    "career_stats_df = pd.DataFrame(career_stats)"
   ]
  },
  {
   "cell_type": "markdown",
   "metadata": {},
   "source": [
    "### Common Info"
   ]
  },
  {
   "cell_type": "code",
   "execution_count": 4,
   "metadata": {},
   "outputs": [
    {
     "name": "stdout",
     "output_type": "stream",
     "text": [
      "100\n",
      "200\n",
      "300\n",
      "400\n",
      "500\n",
      "Done!\n"
     ]
    }
   ],
   "source": [
    "# Repeating the same process using the CommonPlayerInfo endpoint to gather basic\n",
    "# information about each player. Saving common player information to a new DataFrame\n",
    "# called 'common_info_df'\n",
    "\n",
    "players_common_info = []\n",
    "count = 0\n",
    "for each in active_players_df['player_id']:\n",
    "    common_info_test = commonplayerinfo.CommonPlayerInfo(player_id=each)\n",
    "    info_for_each = common_info_test.get_dict()['resultSets'][:1][0]['rowSet'][0] \n",
    "    player = {\n",
    "        'player_id': info_for_each[0],\n",
    "        'team': info_for_each[18],\n",
    "        'school': info_for_each[8],\n",
    "        'country':info_for_each[8],\n",
    "        'height':info_for_each[10],\n",
    "        'weight':info_for_each[11],\n",
    "        'seasons':info_for_each[12],\n",
    "        'jersey_number':info_for_each[13],\n",
    "        'from_year':info_for_each[22],\n",
    "        'to_year':info_for_each[23],\n",
    "        'draft_year':info_for_each[27],\n",
    "        'draft_round':info_for_each[28],\n",
    "        'draft_number':info_for_each[29],\n",
    "    }\n",
    "    players_common_info.append(player)\n",
    "    time.sleep(3)\n",
    "    count+=1\n",
    "    if count % 100 ==0:\n",
    "        print(count)\n",
    "        \n",
    "print('Done!')\n",
    "        \n",
    "common_info_df = pd.DataFrame(players_common_info)"
   ]
  },
  {
   "cell_type": "markdown",
   "metadata": {},
   "source": [
    "## Scraping of Hoops Hype"
   ]
  },
  {
   "cell_type": "code",
   "execution_count": 5,
   "metadata": {},
   "outputs": [
    {
     "name": "stdout",
     "output_type": "stream",
     "text": [
      "<Response [200]>\n",
      "100\n",
      "200\n",
      "300\n",
      "400\n",
      "500\n",
      "Done!\n"
     ]
    }
   ],
   "source": [
    "# Scraping current and future salary information from hoopshype.com. Current salaries\n",
    "# are from the 19/20 season and future salaries are for the 20/21 season. Information is\n",
    "# scraped using BeautifulSoup and saved in a new DataFrame called 'salary_df'\n",
    "\n",
    "url = 'https://hoopshype.com/salaries/players/'\n",
    "res = requests.get(url)\n",
    "print(res)\n",
    "\n",
    "soup = BeautifulSoup(res.content, 'html.parser')\n",
    "\n",
    "players_with_salary = []\n",
    "count = 0\n",
    "for each in soup.find_all('tr')[1:]:\n",
    "    player = {'player_name' : each.find_all('td')[1].text.strip(),\n",
    "              '19_20_salary' : each.find_all('td')[2].text.strip(),\n",
    "              '20_21_salary' : each.find_all('td')[3].text.strip(),\n",
    "             }\n",
    "    players_with_salary.append(player)\n",
    "    time.sleep(3)\n",
    "    count += 1\n",
    "    if count % 100 == 0:\n",
    "        print(count)\n",
    "        \n",
    "print('Done!')\n",
    "        \n",
    "salary_df = pd.DataFrame(players_with_salary)"
   ]
  },
  {
   "cell_type": "markdown",
   "metadata": {},
   "source": [
    "## DataFrame Merging and Cleaning"
   ]
  },
  {
   "cell_type": "code",
   "execution_count": 9,
   "metadata": {},
   "outputs": [],
   "source": [
    "# Merging all DataFrames together into one, cohesive DataFrame called 'df'\n",
    "\n",
    "df = active_players_df.merge(career_stats_df, on='player_id')\n",
    "df = df.merge(common_info_df, on = 'player_id')\n",
    "df = df.merge(salary_df, on = 'player_name')"
   ]
  },
  {
   "cell_type": "code",
   "execution_count": 10,
   "metadata": {},
   "outputs": [],
   "source": [
    "# Formatting salary features by removing dollar signs and commas and converting to\n",
    "# integer. Null values for the 20/21 season represent players who do not have settled\n",
    "# contracts or who will no longer be playing basketball and are replaced with 0s.\n",
    "\n",
    "df['19_20_salary'] = df['19_20_salary'].str.replace('$','')\n",
    "df['19_20_salary'] = df['19_20_salary'].str.replace(',','')\n",
    "df['20_21_salary'] = df['20_21_salary'].str.replace('$','')\n",
    "df['20_21_salary'] = df['20_21_salary'].str.replace(',','')\n",
    "df['19_20_salary'] = df['19_20_salary'].astype(int)\n",
    "df['20_21_salary'].fillna('0', inplace=True)\n",
    "df['20_21_salary'] = df['20_21_salary'].astype(int)\n",
    "\n",
    "# Replacing 20/21 salary feature with a binary feature where 1 means the player has a\n",
    "# settled / announced future salary and 0 means the player does not\n",
    "\n",
    "df['20_21_salary'].value_counts(normalize=True)\n",
    "df['20_21_salary'].isnull().sum()\n",
    "df['future_salary'] = [1 if each is not 0 else 0 for each in df['20_21_salary']]\n",
    "df.drop(columns = '20_21_salary', inplace=True)\n",
    "\n",
    "\n",
    "# Deleting duplicates and unnecessary or redundant columns\n",
    "\n",
    "df.drop_duplicates(inplace=True)\n",
    "df.drop(columns=['jersey_number', 'school', 'to_year', 'country', 'team_id', 'active',\n",
    "                'league_id', 'active'], \n",
    "        inplace=True)"
   ]
  },
  {
   "cell_type": "code",
   "execution_count": 11,
   "metadata": {},
   "outputs": [],
   "source": [
    "# Renaming columns. Descriptions of each statistic can be found in the Data Dictionary\n",
    "# in the 'READMe.md' file of this repository\n",
    "\n",
    "df.rename(columns={\n",
    "    'gp': 'games',\n",
    "    'gs': 'games_started',\n",
    "    'min': 'minutes_played',\n",
    "    'fgm': 'field_goals_made',\n",
    "    'fga': 'field_goals_assisted',\n",
    "    'fg_pct': 'field_goals_pct_made',\n",
    "    'fg3m': '3_pntrs_made',\n",
    "    'fg3a': '3_pntrs_assists',\n",
    "    'fg3_pct': '3_pntrs_pct_made',\n",
    "    'fgt_pct': 'free_throw_pct_made',\n",
    "    'oreb': 'offensive_rebounds',\n",
    "    'dreb' : 'defensive_rebounds',\n",
    "    'reb':'rebounds',\n",
    "    'ast':'assists_to_turnovers',\n",
    "    'stl': 'steals',\n",
    "    'blk':'blocks',\n",
    "    'tov':'turnovers',\n",
    "    'pf':'personal_fouls',\n",
    "    'pts': 'points',\n",
    "    'from_year':'start_year'\n",
    "}\n",
    "          \n",
    "          \n",
    "          , inplace=True)"
   ]
  },
  {
   "cell_type": "code",
   "execution_count": 12,
   "metadata": {},
   "outputs": [],
   "source": [
    "# Reordering Columns\n",
    "\n",
    "df = df[['player_id', \n",
    "         'player_name', \n",
    "         'team',  \n",
    "         'height',\n",
    "         'weight',\n",
    "         'seasons',\n",
    "         'points',\n",
    "         'games', \n",
    "         'games_started', \n",
    "         'minutes_played',\n",
    "         'field_goals_made', \n",
    "         '3_pntrs_made',\n",
    "         'field_goals_pct_made',\n",
    "         '3_pntrs_pct_made',\n",
    "         'ft_pct',\n",
    "         'field_goals_assisted',\n",
    "         '3_pntrs_assists',\n",
    "         'rebounds',\n",
    "         'assists_to_turnovers',\n",
    "         'offensive_rebounds',\n",
    "         'defensive_rebounds',\n",
    "         'steals',\n",
    "         'blocks',\n",
    "         'turnovers',\n",
    "         'personal_fouls',\n",
    "         'draft_year',\n",
    "         'draft_round',\n",
    "         'draft_number',\n",
    "         'start_year',\n",
    "         '19_20_salary',\n",
    "         'future_salary',]]"
   ]
  },
  {
   "cell_type": "code",
   "execution_count": 13,
   "metadata": {},
   "outputs": [],
   "source": [
    "# Several players do not have heights and weights listed through the NBA IPA. The\n",
    "# height and weight data is manually entered. Information was found on the Wikipedia\n",
    "# pages of each player.\n",
    "\n",
    "fill_in_df = df[df['weight'] == '']\n",
    "df = df[df['weight'] != '']\n",
    "\n",
    "manual_height_list = ['6-6', '6-9', '7-1', '6-6', '6-0', '6-8', '6-10', '6-0', '6-8',\n",
    "                     '6-2', '6-9', '6-3', '6-6', '6-2', '6-1', '6-6', '6-5', '6-9',\n",
    "                     '6-11', '6-0', '6-1', '6-5', '5-9', '6-3', '6-5']\n",
    "manual_weight_list = [230.0, 240.0, 249.0, 215.0, 185.0, 255.0, 240, 170.0, 235, 215,\n",
    "                     222, 186.0, 216.0, 185.0, 160.0, 220.0, 219.0, 230.0, 241.0, 175.0,\n",
    "                     195.0, 215.0, 185.0, 210.0, 198.0 ]\n",
    "manual_team_list = ['BKN', 'HOU', 'MIN', 'PHX', 'DAL', 'PHI', 'CLE', 'MIN', 'BKN', 'DET',\n",
    "                   'OKC', 'ORL', 'PHX', 'UTA', 'MIA', 'ORL', 'WAS', 'BKN', 'ATL', 'OKC',\n",
    "                   'TOR', 'WAS', 'BKN', 'WAS', 'ATL']\n",
    "\n",
    "fill_in_ids = [each for each in fill_in_df['player_id']]\n",
    "fill_in_df['height'] = manual_height_list\n",
    "fill_in_df['weight'] = manual_weight_list\n",
    "fill_in_df['team'] = manual_team_list\n",
    "fill_in_df.rename(columns={'0':'player_id'}, inplace=True)\n",
    "\n",
    "dfs = [fill_in_df, df]\n",
    "df = pd.concat(dfs)\n",
    "\n"
   ]
  },
  {
   "cell_type": "code",
   "execution_count": 14,
   "metadata": {},
   "outputs": [],
   "source": [
    "# Engineering features\n",
    "# Creating features that show average points per game and percent of games started\n",
    "\n",
    "df['avg_pnts_per_game'] = df['points'] / df['games']\n",
    "df['pct_of_games_started'] = df['games_started'] / df['games']"
   ]
  },
  {
   "cell_type": "code",
   "execution_count": 15,
   "metadata": {},
   "outputs": [],
   "source": [
    "# Creating an additional height column, 'heights_inches', that shows the heights of\n",
    "# each player in inches (so that height can be ranked more easily)\n",
    "\n",
    "heights_inches = []\n",
    "for each in df['height']:\n",
    "    feet = pd.to_numeric(each[0])\n",
    "    inches = pd.to_numeric(each[2:])\n",
    "    feet_inches = feet * 12\n",
    "    feet_total = feet_inches + inches\n",
    "    heights_inches.append(feet_total)\n",
    "df['heights_inches'] = heights_inches"
   ]
  },
  {
   "cell_type": "code",
   "execution_count": 16,
   "metadata": {},
   "outputs": [],
   "source": [
    "# Replacing 'draft_round' with dummy columns for 1st draft pick, 2nd draft pick, and\n",
    "# Undrafted players. Creating a new features for 'draft_number_group' (which represent\n",
    "# groups of draft picks in batches of 10) and 'draft_nmbr_grp_rank' that shows the rank\n",
    "# of each draft group (where draft number group 1 is ranked as 1 and the highest draft\n",
    "# number groups ranked at 8)\n",
    "\n",
    "draft_round_dummies = pd.get_dummies(df['draft_round'])\n",
    "df['draft_1st_pick'] = draft_round_dummies['1']\n",
    "df['draft_2nd_pick'] = draft_round_dummies['2']\n",
    "df['draft_undrafted'] = draft_round_dummies['Undrafted']\n",
    "\n",
    "df['draft_number'].value_counts()\n",
    "draft_group = []\n",
    "draft_group_rank = []\n",
    "for each in df['draft_number']:\n",
    "    if each in ['1', '2', '3', '4', '5', '6', '7', '8', '9', '10']:\n",
    "        draft_group.append('1-10')\n",
    "        draft_group_rank.append(1)\n",
    "    elif each in ['11', '12', '13', '14', '15', '16', '17', '18', '19', '20']:\n",
    "        draft_group.append('11-20')\n",
    "        draft_group_rank.append(2)\n",
    "    elif each in ['21', '22', '23', '24', '25', '26', '27', '28', '29', '30']:\n",
    "        draft_group.append('21-30')\n",
    "        draft_group_rank.append(3)\n",
    "    elif each in ['31', '32', '33', '34', '35', '36', '37', '38', '39', '40']:\n",
    "        draft_group.append('31-40')\n",
    "        draft_group_rank.append(4)\n",
    "    elif each in ['41', '42', '43', '44', '45', '46', '47', '48', '49', '50']:\n",
    "        draft_group.append('41-50')\n",
    "        draft_group_rank.append(5)\n",
    "    elif each in ['51', '52', '53', '54', '55', '56', '57', '58', '59', '60']:\n",
    "        draft_group.append('51-60')\n",
    "        draft_group_rank.append(6)\n",
    "    elif each in ['61', '62', '63', '64', '65', '66', '67', '68', '69', '70']:\n",
    "        draft_group.append('61-70')\n",
    "        draft_group_rank.append(7)\n",
    "    elif each == 'Undrafted':\n",
    "        draft_group.append('Undrafted')\n",
    "        draft_group_rank.append(8)\n",
    "df['draft_number_group'] = draft_group\n",
    "df['draft_nmbr_grp_rank'] = draft_group_rank\n",
    "\n",
    "df.drop(columns=['draft_round', 'draft_number', 'draft_year'], inplace=True)"
   ]
  },
  {
   "cell_type": "code",
   "execution_count": 17,
   "metadata": {},
   "outputs": [],
   "source": [
    "# Exporting the finished, clean DataFrame as 'NBAPlayers.csv' \n",
    "\n",
    "df.to_csv('datasets/NBAPlayers.csv', index=False)"
   ]
  }
 ],
 "metadata": {
  "kernelspec": {
   "display_name": "Python 3",
   "language": "python",
   "name": "python3"
  },
  "language_info": {
   "codemirror_mode": {
    "name": "ipython",
    "version": 3
   },
   "file_extension": ".py",
   "mimetype": "text/x-python",
   "name": "python",
   "nbconvert_exporter": "python",
   "pygments_lexer": "ipython3",
   "version": "3.7.4"
  }
 },
 "nbformat": 4,
 "nbformat_minor": 2
}
